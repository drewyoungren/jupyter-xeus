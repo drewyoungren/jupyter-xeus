{
 "cells": [
  {
   "cell_type": "markdown",
   "id": "d2d1b2c4-0d75-4690-97c4-a9a9777e6f44",
   "metadata": {},
   "source": [
    "# Using Linearization for Estimation"
   ]
  },
  {
   "cell_type": "markdown",
   "id": "7f462b2e-f676-4085-9400-fd51d715f4fd",
   "metadata": {},
   "source": [
    "Estimate $f(3.02, 2.03, 0.99)$ where $$f(x,y,z) = e^{-x^2 + 3y + 3z}$$"
   ]
  },
  {
   "cell_type": "code",
   "execution_count": 2,
   "id": "8160d67d-1ee1-44c5-a398-56c0fda6aa5d",
   "metadata": {},
   "outputs": [],
   "source": [
    "from sympy import exp, sqrt, diff\n",
    "from sympy.abc import x, y, z"
   ]
  },
  {
   "cell_type": "code",
   "execution_count": 3,
   "id": "47b697e5-76fc-4347-9560-ca730e2d0cde",
   "metadata": {},
   "outputs": [
    {
     "data": {
      "text/latex": [
       "$\\displaystyle x^{2}$"
      ],
      "text/plain": [
       "x**2"
      ]
     },
     "execution_count": 3,
     "metadata": {},
     "output_type": "execute_result"
    }
   ],
   "source": [
    "x**2"
   ]
  },
  {
   "cell_type": "code",
   "execution_count": 4,
   "id": "79c32937-2903-409e-acf7-4b2a81993da1",
   "metadata": {},
   "outputs": [],
   "source": [
    "f = exp(-x**2 + 3*y + 3*z)"
   ]
  },
  {
   "cell_type": "code",
   "execution_count": 5,
   "id": "fa895bca-8f63-4d1d-8c02-b607c242dfd3",
   "metadata": {},
   "outputs": [
    {
     "data": {
      "text/latex": [
       "$\\displaystyle e^{- x^{2} + 3 y + 3 z}$"
      ],
      "text/plain": [
       "exp(-x**2 + 3*y + 3*z)"
      ]
     },
     "execution_count": 5,
     "metadata": {},
     "output_type": "execute_result"
    }
   ],
   "source": [
    "f"
   ]
  },
  {
   "cell_type": "code",
   "execution_count": 6,
   "id": "9078b26b-2d7b-425d-903e-66b40de38359",
   "metadata": {},
   "outputs": [],
   "source": [
    "p = {x: 3, y: 2, z: 1}"
   ]
  },
  {
   "cell_type": "code",
   "execution_count": 7,
   "id": "9c617058-8449-47c6-a5f0-550bd7a03e04",
   "metadata": {},
   "outputs": [
    {
     "data": {
      "text/latex": [
       "$\\displaystyle 1$"
      ],
      "text/plain": [
       "1"
      ]
     },
     "execution_count": 7,
     "metadata": {},
     "output_type": "execute_result"
    }
   ],
   "source": [
    "f.subs(p)"
   ]
  },
  {
   "cell_type": "markdown",
   "id": "23dc8668-4f2b-4990-9e11-ac4ad0717c35",
   "metadata": {},
   "source": [
    "$$L(x,y,z) = f(3,2,1) + f_x(3,2,1) (x - 3) + f_y(3,2,1) (y - 2) + f_z(3,2,1)(z - 1)$$"
   ]
  },
  {
   "cell_type": "code",
   "execution_count": 9,
   "id": "03321b53-47da-43f8-acda-ac9fdaea9a58",
   "metadata": {},
   "outputs": [],
   "source": [
    "a = diff(f, x).subs(p)\n",
    "b = diff(f, y).subs(p)\n",
    "c = diff(f, z).subs(p)"
   ]
  },
  {
   "cell_type": "code",
   "execution_count": 10,
   "id": "36be511e-a81e-4ec3-ba40-70202315b205",
   "metadata": {},
   "outputs": [
    {
     "data": {
      "text/plain": [
       "(-6, 3, 3)"
      ]
     },
     "execution_count": 10,
     "metadata": {},
     "output_type": "execute_result"
    }
   ],
   "source": [
    "a, b, c"
   ]
  },
  {
   "cell_type": "code",
   "execution_count": 11,
   "id": "cc78f1e4-fdad-4e96-bfb6-df192b2ccdb5",
   "metadata": {},
   "outputs": [
    {
     "data": {
      "text/latex": [
       "$\\displaystyle 0.94$"
      ],
      "text/plain": [
       "0.940000000000000"
      ]
     },
     "execution_count": 11,
     "metadata": {},
     "output_type": "execute_result"
    }
   ],
   "source": [
    "f.subs(p) + a*(0.02) + b*(0.03) + c*(-0.01)"
   ]
  },
  {
   "cell_type": "code",
   "execution_count": 12,
   "id": "5a29fc19-003b-4723-aae6-586612f2954c",
   "metadata": {},
   "outputs": [
    {
     "data": {
      "text/latex": [
       "$\\displaystyle 0.941387903101933$"
      ],
      "text/plain": [
       "0.941387903101933"
      ]
     },
     "execution_count": 12,
     "metadata": {},
     "output_type": "execute_result"
    }
   ],
   "source": [
    "f.subs({x: 3.02, y: 2.03, z:0.99})"
   ]
  },
  {
   "cell_type": "markdown",
   "id": "97ad2ba5-385d-4b18-bfc7-42cb1128ed8f",
   "metadata": {},
   "source": [
    "Estimate $\\sqrt{\\frac27}$."
   ]
  },
  {
   "cell_type": "code",
   "execution_count": 13,
   "id": "7929f310-558c-4253-bc45-521669a8652f",
   "metadata": {},
   "outputs": [],
   "source": [
    "h = sqrt(2 / x)"
   ]
  },
  {
   "cell_type": "code",
   "execution_count": 14,
   "id": "e9a2116d-94f7-4302-88fe-c3a7ec28618c",
   "metadata": {},
   "outputs": [
    {
     "data": {
      "text/latex": [
       "$\\displaystyle \\sqrt{2} \\sqrt{\\frac{1}{x}}$"
      ],
      "text/plain": [
       "sqrt(2)*sqrt(1/x)"
      ]
     },
     "execution_count": 14,
     "metadata": {},
     "output_type": "execute_result"
    }
   ],
   "source": [
    "h"
   ]
  },
  {
   "cell_type": "code",
   "execution_count": 15,
   "id": "7aa911e1-eb24-45d8-81ad-d7cbbc509cdc",
   "metadata": {},
   "outputs": [
    {
     "data": {
      "text/latex": [
       "$\\displaystyle \\frac{1}{2}$"
      ],
      "text/plain": [
       "1/2"
      ]
     },
     "execution_count": 15,
     "metadata": {},
     "output_type": "execute_result"
    }
   ],
   "source": [
    "a = {x: 8}\n",
    "h.subs(a)"
   ]
  },
  {
   "cell_type": "markdown",
   "id": "41fbe93b-62d8-4cfa-a074-2b885f1fecec",
   "metadata": {},
   "source": [
    "$$L(x) = h(8) + h'(8)(x - 8)$$"
   ]
  },
  {
   "cell_type": "code",
   "execution_count": 16,
   "id": "e5efd407-c402-4ffe-a1ef-d939b3706464",
   "metadata": {},
   "outputs": [
    {
     "data": {
      "text/latex": [
       "$\\displaystyle \\frac{17}{32}$"
      ],
      "text/plain": [
       "17/32"
      ]
     },
     "execution_count": 16,
     "metadata": {},
     "output_type": "execute_result"
    }
   ],
   "source": [
    "h.subs(a) + diff(h).subs(a)*(-1)"
   ]
  },
  {
   "cell_type": "code",
   "execution_count": 17,
   "id": "a67051a0-f23c-4dff-9c26-2960a5cfbca2",
   "metadata": {},
   "outputs": [
    {
     "data": {
      "text/latex": [
       "$\\displaystyle -0.00327248382484879$"
      ],
      "text/plain": [
       "-0.00327248382484879"
      ]
     },
     "execution_count": 17,
     "metadata": {},
     "output_type": "execute_result"
    }
   ],
   "source": [
    "17 / 32 - sqrt(2/7)"
   ]
  },
  {
   "cell_type": "code",
   "execution_count": 18,
   "id": "fdd654c8-4d6d-4841-95e5-18513e532eb9",
   "metadata": {},
   "outputs": [
    {
     "data": {
      "text/latex": [
       "$\\displaystyle \\sqrt{\\frac{x}{y}}$"
      ],
      "text/plain": [
       "sqrt(x/y)"
      ]
     },
     "execution_count": 18,
     "metadata": {},
     "output_type": "execute_result"
    }
   ],
   "source": [
    "g = sqrt(x / y)\n",
    "g"
   ]
  },
  {
   "cell_type": "code",
   "execution_count": 19,
   "id": "d98ac7d1-1a46-43ab-bce8-9fda0fd32e21",
   "metadata": {},
   "outputs": [
    {
     "data": {
      "text/latex": [
       "$\\displaystyle \\frac{1}{2}$"
      ],
      "text/plain": [
       "1/2"
      ]
     },
     "execution_count": 19,
     "metadata": {},
     "output_type": "execute_result"
    }
   ],
   "source": [
    "q = {x: 9, y: 36}\n",
    "g.subs(q)"
   ]
  },
  {
   "cell_type": "code",
   "execution_count": 21,
   "id": "b309cff3-cf9a-4f66-8557-a67747bcc2d5",
   "metadata": {},
   "outputs": [
    {
     "data": {
      "text/plain": [
       "(1/36, -1/144)"
      ]
     },
     "execution_count": 21,
     "metadata": {},
     "output_type": "execute_result"
    }
   ],
   "source": [
    "a = diff(g, x).subs(q)\n",
    "b = diff(g, y).subs(q)\n",
    "a, b"
   ]
  },
  {
   "cell_type": "code",
   "execution_count": 22,
   "id": "5058be47-aa0d-4ec6-a261-2786bd79428f",
   "metadata": {},
   "outputs": [
    {
     "data": {
      "text/latex": [
       "$\\displaystyle \\frac{77}{144}$"
      ],
      "text/plain": [
       "77/144"
      ]
     },
     "execution_count": 22,
     "metadata": {},
     "output_type": "execute_result"
    }
   ],
   "source": [
    "g.subs(q) + a*(10 - 9) + b*(35 - 36)"
   ]
  },
  {
   "cell_type": "code",
   "execution_count": 25,
   "id": "d6ed50bd-34ed-4708-81a6-6a7497888bd7",
   "metadata": {},
   "outputs": [
    {
     "data": {
      "text/latex": [
       "$\\displaystyle 0.000199738397373417$"
      ],
      "text/plain": [
       "0.000199738397373417"
      ]
     },
     "execution_count": 25,
     "metadata": {},
     "output_type": "execute_result"
    }
   ],
   "source": [
    "77 / 144 - sqrt(2/7)"
   ]
  },
  {
   "cell_type": "code",
   "execution_count": null,
   "id": "5cfdc3f3-acd7-4517-b653-0c06a12e9b11",
   "metadata": {},
   "outputs": [],
   "source": []
  }
 ],
 "metadata": {
  "kernelspec": {
   "display_name": "Python 3 (ipykernel)",
   "language": "python",
   "name": "python3"
  },
  "language_info": {
   "codemirror_mode": {
    "name": "ipython",
    "version": 3
   },
   "file_extension": ".py",
   "mimetype": "text/x-python",
   "name": "python",
   "nbconvert_exporter": "python",
   "pygments_lexer": "ipython3",
   "version": "3.12.5"
  }
 },
 "nbformat": 4,
 "nbformat_minor": 5
}
