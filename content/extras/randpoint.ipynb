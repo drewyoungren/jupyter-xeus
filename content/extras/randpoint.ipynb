{
 "cells": [
  {
   "cell_type": "markdown",
   "metadata": {},
   "source": [
    "# Triple Integrals Example\n",
    "\n",
    "Find the volume of the solid region $$S = \\{(x,y,z) \\mid x^2 + y^2 \\leq z \\leq 4 \\}.$$"
   ]
  },
  {
   "cell_type": "markdown",
   "metadata": {},
   "source": [
    "$$\\text{Vol}(S) = \\iiint\\limits_S 1\\,dV = \\int_{0}^2 \\int_0^{\\sqrt{4 - x^2}} \\int_{x^2 + y^2}^4 \\,dz\\,dy\\,dx$$"
   ]
  },
  {
   "cell_type": "markdown",
   "metadata": {},
   "source": [
    "## Follow-up\n",
    "\n",
    "What is the probability that a point picked randomly from $S$ has an $x$-coordinate bigger than 1?"
   ]
  }
 ],
 "metadata": {
  "kernelspec": {
   "display_name": "ds",
   "language": "python",
   "name": "python3"
  },
  "language_info": {
   "codemirror_mode": {
    "name": "ipython",
    "version": 3
   },
   "file_extension": ".py",
   "mimetype": "text/x-python",
   "name": "python",
   "nbconvert_exporter": "python",
   "pygments_lexer": "ipython3",
   "version": "3.12.5"
  }
 },
 "nbformat": 4,
 "nbformat_minor": 2
}
