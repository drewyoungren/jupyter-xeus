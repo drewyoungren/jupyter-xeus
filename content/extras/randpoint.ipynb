{
 "cells": [
  {
   "cell_type": "markdown",
   "metadata": {},
   "source": [
    "# Triple Integrals Example\n",
    "\n",
    "Find the volume of the solid region $$S = \\{(x,y,z) \\mid x^2 + y^2 \\leq z \\leq 4 \\}.$$"
   ]
  },
  {
   "cell_type": "markdown",
   "metadata": {},
   "source": [
    "$$\\text{Vol}(S) = \\iiint\\limits_S 1\\,dV = \\int_{0}^2 \\int_0^{\\sqrt{4 - x^2}} \\int_{x^2 + y^2}^4 \\,dz\\,dy\\,dx$$"
   ]
  },
  {
   "cell_type": "code",
   "execution_count": 13,
   "metadata": {},
   "outputs": [
    {
     "data": {
      "text/plain": [
       "6.283185307096016"
      ]
     },
     "execution_count": 13,
     "metadata": {},
     "output_type": "execute_result"
    }
   ],
   "source": [
    "from scipy.integrate import tplquad\n",
    "from numpy import sqrt\n",
    "\n",
    "vol = tplquad(lambda z, y, x: 1, 0, 2, 0, lambda x: sqrt(4 - x**2), lambda x,y: x**2 + y**2, 4)[0]\n",
    "vol\n"
   ]
  },
  {
   "cell_type": "markdown",
   "metadata": {},
   "source": [
    "## Follow-up\n",
    "\n",
    "What is the probability that a point picked randomly from $S$ has an $x$-coordinate bigger than 1?"
   ]
  },
  {
   "cell_type": "code",
   "execution_count": 2,
   "metadata": {},
   "outputs": [],
   "source": [
    "import numpy as np\n",
    "from numpy.random import rand"
   ]
  },
  {
   "cell_type": "code",
   "execution_count": 20,
   "metadata": {},
   "outputs": [
    {
     "data": {
      "text/plain": [
       "0.2529061656856508"
      ]
     },
     "execution_count": 20,
     "metadata": {},
     "output_type": "execute_result"
    }
   ],
   "source": [
    "N = 1000000\n",
    "total = 0\n",
    "successes = 0\n",
    "for _ in range(N):\n",
    "    x = 2*rand() \n",
    "    y = 2*rand() \n",
    "    z = 4*rand()\n",
    "    if x**2 + y**2 <= z <= 4:\n",
    "        total += 1\n",
    "        if x > 1:\n",
    "            successes += 1\n",
    "successes / total"
   ]
  },
  {
   "cell_type": "code",
   "execution_count": 17,
   "metadata": {},
   "outputs": [
    {
     "data": {
      "text/plain": [
       "0.2531699951013385"
      ]
     },
     "execution_count": 17,
     "metadata": {},
     "output_type": "execute_result"
    }
   ],
   "source": [
    "tplquad(lambda z, y, x: 1, 1, 2, 0, lambda x: sqrt(4 - x**2), lambda x,y: x**2 + y**2, 4)[0] / vol"
   ]
  },
  {
   "cell_type": "code",
   "execution_count": null,
   "metadata": {},
   "outputs": [],
   "source": []
  }
 ],
 "metadata": {
  "kernelspec": {
   "display_name": "ds",
   "language": "python",
   "name": "python3"
  },
  "language_info": {
   "codemirror_mode": {
    "name": "ipython",
    "version": 3
   },
   "file_extension": ".py",
   "mimetype": "text/x-python",
   "name": "python",
   "nbconvert_exporter": "python",
   "pygments_lexer": "ipython3",
   "version": "3.12.4"
  }
 },
 "nbformat": 4,
 "nbformat_minor": 2
}
