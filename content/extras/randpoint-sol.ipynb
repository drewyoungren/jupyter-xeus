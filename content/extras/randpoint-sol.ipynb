{
 "cells": [
  {
   "cell_type": "markdown",
   "metadata": {},
   "source": [
    "# Triple Integrals Example\n",
    "\n",
    "Find the volume of the solid region $$S = \\{(x,y,z) \\mid x^2 + y^2 \\leq z \\leq 4 \\}.$$"
   ]
  },
  {
   "cell_type": "markdown",
   "metadata": {},
   "source": [
    "$$\\text{Vol}(S) = \\iiint\\limits_S 1\\,dV = \\int_{0}^2 \\int_0^{\\sqrt{4 - x^2}} \\int_{x^2 + y^2}^4 \\,dz\\,dy\\,dx$$"
   ]
  },
  {
   "cell_type": "code",
   "execution_count": 5,
   "metadata": {},
   "outputs": [],
   "source": [
    "from sympy import integrate, sqrt, N\n",
    "from sympy.abc import x, y, z"
   ]
  },
  {
   "cell_type": "code",
   "execution_count": 9,
   "metadata": {},
   "outputs": [
    {
     "data": {
      "text/latex": [
       "$\\displaystyle 2 \\pi$"
      ],
      "text/plain": [
       "2*pi"
      ]
     },
     "execution_count": 9,
     "metadata": {},
     "output_type": "execute_result"
    }
   ],
   "source": [
    "vol = integrate(1, (z, x**2 + y**2, 4), (y, 0, sqrt(4 - x**2)), (x, 0, 2))\n",
    "vol"
   ]
  },
  {
   "cell_type": "markdown",
   "metadata": {},
   "source": [
    "## Follow-up\n",
    "\n",
    "What is the probability that a point picked randomly from $S$ has an $x$-coordinate bigger than 1?"
   ]
  },
  {
   "cell_type": "code",
   "execution_count": 10,
   "metadata": {},
   "outputs": [],
   "source": [
    "prob = integrate(1, (z, x**2 + y**2, 4), (y, 0, sqrt(4 - x**2)), (x, 1, 2)) / vol"
   ]
  },
  {
   "cell_type": "code",
   "execution_count": 11,
   "metadata": {},
   "outputs": [
    {
     "data": {
      "text/latex": [
       "$\\displaystyle \\frac{- \\frac{3 \\sqrt{3}}{2} + \\frac{4 \\pi}{3}}{2 \\pi}$"
      ],
      "text/plain": [
       "(-3*sqrt(3)/2 + 4*pi/3)/(2*pi)"
      ]
     },
     "execution_count": 11,
     "metadata": {},
     "output_type": "execute_result"
    }
   ],
   "source": [
    "prob"
   ]
  },
  {
   "cell_type": "code",
   "execution_count": 12,
   "metadata": {},
   "outputs": [
    {
     "data": {
      "text/latex": [
       "$\\displaystyle 0.253169995100323$"
      ],
      "text/plain": [
       "0.253169995100323"
      ]
     },
     "execution_count": 12,
     "metadata": {},
     "output_type": "execute_result"
    }
   ],
   "source": [
    "N(prob)"
   ]
  },
  {
   "cell_type": "code",
   "execution_count": 13,
   "metadata": {},
   "outputs": [],
   "source": [
    "from numpy.random import rand"
   ]
  },
  {
   "cell_type": "code",
   "execution_count": 17,
   "metadata": {},
   "outputs": [
    {
     "data": {
      "text/plain": [
       "0.2522143168288079"
      ]
     },
     "execution_count": 17,
     "metadata": {},
     "output_type": "execute_result"
    }
   ],
   "source": [
    "n = 1000000\n",
    "total = 0\n",
    "successes = 0\n",
    "for _ in range(n):\n",
    "    x = 2*rand()\n",
    "    y = 2*rand()\n",
    "    z = 4*rand()\n",
    "    if x**2 + y**2 <= z <= 4:\n",
    "        total += 1\n",
    "        if x > 1:\n",
    "            successes += 1\n",
    "\n",
    "successes / total"
   ]
  },
  {
   "cell_type": "code",
   "execution_count": null,
   "metadata": {},
   "outputs": [],
   "source": []
  }
 ],
 "metadata": {
  "kernelspec": {
   "display_name": "Python 3 (ipykernel)",
   "language": "python",
   "name": "python3"
  },
  "language_info": {
   "codemirror_mode": {
    "name": "ipython",
    "version": 3
   },
   "file_extension": ".py",
   "mimetype": "text/x-python",
   "name": "python",
   "nbconvert_exporter": "python",
   "pygments_lexer": "ipython3",
   "version": "3.12.5"
  }
 },
 "nbformat": 4,
 "nbformat_minor": 4
}
