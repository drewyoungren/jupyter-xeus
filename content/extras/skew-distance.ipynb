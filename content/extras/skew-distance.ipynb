{
  "metadata": {
    "kernelspec": {
      "name": "xpython",
      "display_name": "Python 3.11 (XPython)",
      "language": "python"
    },
    "language_info": {
      "file_extension": ".py",
      "mimetype": "text/x-python",
      "name": "python",
      "version": "3.11.3"
    }
  },
  "nbformat_minor": 4,
  "nbformat": 4,
  "cells": [
    {
      "cell_type": "markdown",
      "source": "# Distance \n\nFind the distance between skew lines $\\langle -t, t, 1 \\rangle$ and $\\langle 1 - t, 1 + 2t, 2 + t \\rangle$.",
      "metadata": {}
    },
    {
      "cell_type": "code",
      "source": "from numpy import sin, cos, dot, cross, array, sqrt, abs",
      "metadata": {
        "trusted": true
      },
      "outputs": [],
      "execution_count": null
    },
    {
      "cell_type": "code",
      "source": "def mag(v): \n    return sqrt(dot(v,v))",
      "metadata": {
        "trusted": true
      },
      "outputs": [],
      "execution_count": null
    },
    {
      "cell_type": "code",
      "source": "def proj(w, v):\n    return dot(v, w) / dot(w, w) * w",
      "metadata": {
        "trusted": true
      },
      "outputs": [],
      "execution_count": null
    }
  ]
}