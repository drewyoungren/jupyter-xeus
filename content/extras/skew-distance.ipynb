{
  "metadata": {
    "kernelspec": {
      "name": "xpython",
      "display_name": "Python 3.11 (XPython)",
      "language": "python"
    },
    "language_info": {
      "file_extension": ".py",
      "mimetype": "text/x-python",
      "name": "python",
      "version": "3.11.3"
    }
  },
  "nbformat_minor": 4,
  "nbformat": 4,
  "cells": [
    {
      "cell_type": "markdown",
      "source": "# Distance \n\nFind the distance between [skew lines](https://3demos.ctl.columbia.edu/?Y3VycmVudENoYXB0ZXI9SW50cm8mc2NhbGU9MC41NCZzaG93UGFuZWw9ZmFsc2Umb2JqMF9raW5kPWN1cnZlJm9iajBfY29sb3I9JTIzNDEzM2ZmJm9iajBfcGFyYW1zX2E9LTMmb2JqMF9wYXJhbXNfYj0zJm9iajBfcGFyYW1zX3g9LXQmb2JqMF9wYXJhbXNfeT10Jm9iajBfcGFyYW1zX3o9MSZvYmowX3BhcmFtc190YXU9MCZvYmowX3BhcmFtc19jb2xvcj0lMjM5MGE3MDAmb2JqMF9wYXJhbXNfYTA9MCZvYmowX3BhcmFtc19hMT0xJm9iajFfa2luZD1jdXJ2ZSZvYmoxX2NvbG9yPSUyM2NjMDAwMCZvYmoxX3BhcmFtc19hPS0zJm9iajFfcGFyYW1zX2I9MyZvYmoxX3BhcmFtc194PTErLSt0Jm9iajFfcGFyYW1zX3k9MSslMkIrMit0Jm9iajFfcGFyYW1zX3o9MislMkIrdCZvYmoxX3BhcmFtc190YXU9MCZvYmoxX3BhcmFtc19jb2xvcj0lMjNhNzNmMDAmb2JqMV9wYXJhbXNfYTA9MCZvYmoxX3BhcmFtc19hMT0x) $\\langle -t, t, 1 \\rangle$ and $\\langle 1 - t, 1 + 2t, 2 + t \\rangle$.",
      "metadata": {}
    },
    {
      "cell_type": "code",
      "source": "from numpy import sin, cos, dot, cross, array, sqrt, abs",
      "metadata": {
        "trusted": true
      },
      "outputs": [],
      "execution_count": null
    },
    {
      "cell_type": "code",
      "source": "def mag(v): \n    return sqrt(dot(v,v))",
      "metadata": {
        "trusted": true
      },
      "outputs": [],
      "execution_count": null
    },
    {
      "cell_type": "code",
      "source": "def proj(w, v):\n    return dot(v, w) / dot(w, w) * w",
      "metadata": {
        "trusted": true
      },
      "outputs": [],
      "execution_count": null
    }
  ]
}